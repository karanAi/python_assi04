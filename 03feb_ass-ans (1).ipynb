{
 "cells": [
  {
   "cell_type": "markdown",
   "id": "7adce5bd-f76b-45de-86b9-4f3b78d4dcb6",
   "metadata": {},
   "source": [
    "Q.1 Which keyword is used to create a function? Create a function to return a list of odd numbers in the \n",
    "range of 1 to 25.\n"
   ]
  },
  {
   "cell_type": "markdown",
   "id": "ab222481-0865-40d1-8201-af17d58e28a2",
   "metadata": {},
   "source": [
    " Ans --> The \"def\" keyword is used to create a function in Python.\n",
    "\n",
    "Here's an example of a function that returns a list of odd numbers in the range of 1 to 25:\n"
   ]
  },
  {
   "cell_type": "code",
   "execution_count": 12,
   "id": "8b402305-35f7-4a5a-8381-8e59636e761b",
   "metadata": {},
   "outputs": [],
   "source": [
    "def get_odd_numbers():\n",
    "    odd_numbers = []\n",
    "    for num in range(1, 26):\n",
    "        if num % 2 != 0:\n",
    "            odd_numbers.append(num)\n",
    "    return odd_numbers\n"
   ]
  },
  {
   "cell_type": "markdown",
   "id": "13a3ae3e-199c-4111-bd01-0bba6797ea16",
   "metadata": {},
   "source": [
    "Q2. Why *args and **kwargs is used in some functions? Create a function each for *args and **kwargs \n",
    "to demonstrate their use"
   ]
  },
  {
   "cell_type": "markdown",
   "id": "169af97b-a289-4139-8ee7-5929fc7e9a38",
   "metadata": {},
   "source": [
    "Ans-> *args and **kwargs are special syntax in Python used for passing a variable number of arguments to a function.\n",
    "\n",
    "*args is used when we want to pass a variable number of positional arguments to a function. It allows us to pass any number of arguments to a function, separated by commas. The * before the variable name tells Python to unpack the arguments into a tuple.\n",
    "\n",
    "Here's an example function that takes *args as an argument:"
   ]
  },
  {
   "cell_type": "code",
   "execution_count": 8,
   "id": "559effab-842e-4fee-b2e9-c25e3edc0cff",
   "metadata": {},
   "outputs": [
    {
     "name": "stdout",
     "output_type": "stream",
     "text": [
      "1\n",
      "2\n",
      "3\n",
      "4\n",
      "5\n"
     ]
    }
   ],
   "source": [
    "def my_function(*args):\n",
    "    for arg in args:\n",
    "        print(arg)\n",
    "\n",
    "my_function(1, 2, 3, 4, 5)\n"
   ]
  },
  {
   "cell_type": "markdown",
   "id": "7f3d8e25-39c2-43fb-8be1-6b6b318837ad",
   "metadata": {},
   "source": [
    "In this function, we use a for loop to iterate over the args tuple and print each argument.\n",
    "\n",
    "**kwargs is used when we want to pass a variable number of keyword arguments to a function. It allows us to pass any number of arguments with key-value pairs to a function, separated by commas. The ** before the variable name tells Python to unpack the arguments into a dictionary.\n",
    "\n",
    "Here's an example function that takes **kwargs as an argument:"
   ]
  },
  {
   "cell_type": "code",
   "execution_count": 9,
   "id": "98602c59-ef80-4f52-a48c-6f59c475d446",
   "metadata": {},
   "outputs": [
    {
     "name": "stdout",
     "output_type": "stream",
     "text": [
      "name: John\n",
      "age: 30\n",
      "city: New York\n"
     ]
    }
   ],
   "source": [
    "def my_function(**kwargs):\n",
    "    for key, value in kwargs.items():\n",
    "        print(f\"{key}: {value}\")\n",
    "\n",
    "my_function(name=\"John\", age=30, city=\"New York\")\n"
   ]
  },
  {
   "cell_type": "markdown",
   "id": "7d9d749d-5ba4-4c73-b802-7f76c84417ed",
   "metadata": {},
   "source": [
    "Q3.  What is an iterator in python? Name the method used to initialise the iterator object and the method \n",
    "used for iteration. Use these methods to print the first five elements of the given list [2, 4, 6, 8, 10, 12, 14, \n",
    "16, 18, 20].\n",
    "\n"
   ]
  },
  {
   "cell_type": "markdown",
   "id": "c4d191d9-03aa-48ea-97db-8206ebfe06d8",
   "metadata": {},
   "source": [
    " Ans -> In Python, an iterator is an object that can be iterated (looped) upon, meaning it allows us to traverse through a sequence of elements one at a time.\n",
    "\n",
    "To initialize an iterator object in Python, we use the iter() method. This method takes an iterable object (such as a list, tuple, or string) and returns an iterator object.\n",
    "\n",
    "To iterate through an iterator object, we use the next() method. This method returns the next item from the iterator."
   ]
  },
  {
   "cell_type": "code",
   "execution_count": 11,
   "id": "5201abe0-a09b-4b5f-92a8-91a13a758741",
   "metadata": {},
   "outputs": [
    {
     "name": "stdout",
     "output_type": "stream",
     "text": [
      "2\n",
      "4\n",
      "6\n",
      "8\n",
      "10\n"
     ]
    }
   ],
   "source": [
    "\n",
    "my_list = [2, 4, 6, 8, 10, 12, 14, 16, 18, 20]\n",
    "\n",
    "\n",
    "my_iterator = iter(my_list)\n",
    "\n",
    "\n",
    "for i in range(5):\n",
    "    print(next(my_iterator))\n"
   ]
  },
  {
   "cell_type": "markdown",
   "id": "e8777887-abb3-47a5-949d-bdb945d383c2",
   "metadata": {},
   "source": [
    "Q5. Create a generator function for prime numbers less than 1000. Use the next() method to print the \n",
    "first 20 prime numbers.\n"
   ]
  },
  {
   "cell_type": "code",
   "execution_count": 16,
   "id": "ed745e7b-406e-436e-86c2-2b105eae8e79",
   "metadata": {},
   "outputs": [],
   "source": [
    "def primes():\n",
    "    num = 2\n",
    "    while num < 1000:\n",
    "        \n",
    "        for i in range(2, num):\n",
    "            if num % i == 0:\n",
    "                break\n",
    "        else:\n",
    "            yield num\n",
    "        num += 1\n"
   ]
  },
  {
   "cell_type": "markdown",
   "id": "8538e00d-8eb8-406e-a1bc-7fc872a5321f",
   "metadata": {},
   "source": [
    "To print the first 20 prime numbers, we can use the next() method on the generator function like this:"
   ]
  },
  {
   "cell_type": "code",
   "execution_count": 21,
   "id": "a35b6781-ecca-4fb7-92f9-c09231de0af7",
   "metadata": {},
   "outputs": [
    {
     "name": "stdout",
     "output_type": "stream",
     "text": [
      "2\n",
      "3\n",
      "5\n",
      "7\n",
      "11\n",
      "13\n",
      "17\n",
      "19\n",
      "23\n",
      "29\n",
      "31\n",
      "37\n",
      "41\n",
      "43\n",
      "47\n",
      "53\n",
      "59\n",
      "61\n",
      "67\n",
      "71\n"
     ]
    }
   ],
   "source": [
    "# Initialize the generator\n",
    "prime_generator = primes()\n",
    "\n",
    "# Print the first 20 prime numbers\n",
    "for i in range(20):\n",
    "    print(next(prime_generator))\n"
   ]
  },
  {
   "cell_type": "markdown",
   "id": "69d6dc01-1d06-48ee-b1d4-e97941896d22",
   "metadata": {},
   "source": [
    "Q6. Write a python program to print the first 10 Fibonacci numbers using a while loop"
   ]
  },
  {
   "cell_type": "code",
   "execution_count": 22,
   "id": "3732c9c5-477c-438b-91e3-8fb8979946fe",
   "metadata": {},
   "outputs": [
    {
     "name": "stdout",
     "output_type": "stream",
     "text": [
      "0\n",
      "1\n",
      "1\n",
      "2\n",
      "3\n",
      "5\n",
      "8\n",
      "13\n",
      "21\n",
      "34\n"
     ]
    }
   ],
   "source": [
    "\n",
    "num1, num2 = 0, 1\n",
    "\n",
    "count = 0\n",
    "\n",
    "while count < 10:\n",
    "    \n",
    "    print(num1)\n",
    "\n",
    "    \n",
    "    num3 = num1 + num2\n",
    "\n",
    "    # Update the values of num1 and num2 for the next iteration\n",
    "    num1 = num2\n",
    "    num2 = num3\n",
    "\n",
    "    # Increment the counter\n",
    "    count += 1\n"
   ]
  },
  {
   "cell_type": "markdown",
   "id": "6985a115-c67a-498e-aeb7-2bb4ad336669",
   "metadata": {},
   "source": [
    "Q7. Write a List Comprehension to iterate through the given string: ‘pwskills’.\n",
    "\n",
    "Expected output: ['p', 'w', 's', 'k', 'i', 'l', 'l', 's']"
   ]
  },
  {
   "cell_type": "code",
   "execution_count": 24,
   "id": "27e5085e-cb76-4b91-b4d6-330fd8d12ac5",
   "metadata": {},
   "outputs": [
    {
     "name": "stdout",
     "output_type": "stream",
     "text": [
      "['p', 'w', 's', 'k', 'i', 'l', 'l', 's']\n"
     ]
    }
   ],
   "source": [
    "my_string = 'pwskills'\n",
    "\n",
    "# Use a list comprehension to iterate through the string\n",
    "my_list = [char for char in my_string]\n",
    "\n",
    "# Print the resulting list\n",
    "print(my_list)\n"
   ]
  },
  {
   "cell_type": "markdown",
   "id": "09ad38ba-46aa-41d1-b2dc-7c04264dacb1",
   "metadata": {},
   "source": [
    "Q8. Write a python program to check whether a given number is Palindrome or not using a while loop."
   ]
  },
  {
   "cell_type": "code",
   "execution_count": null,
   "id": "aed2f1ae-4c54-4c6a-a82a-7f4889ed27e2",
   "metadata": {},
   "outputs": [],
   "source": [
    "\n",
    "num = int(input(\"Enter a number: \"))\n",
    "\n",
    "original_num = num\n",
    "\n",
    "reverse_num = 0\n",
    "digit_count = 0\n",
    "\n",
    "while num > 0:\n",
    "    \n",
    "    last_digit = num % 10\n",
    "\n",
    "    \n",
    "    reverse_num = reverse_num * 10 + last_digit\n",
    "\n",
    "    \n",
    "    num = num // 10\n",
    "\n",
    "    \n",
    "    digit_count += 1\n",
    "\n",
    "# Check if the original number and reversed number are equal# Use a list comprehension to generate the odd numbers from 1 to 100\n",
    "odd_numbers = [num for num in range(1, 101) if num % 2 != 0]\n",
    "\n",
    "print(odd_numbers)\n",
    "\n",
    "if original_num == reverse_num:\n",
    "    print(\"The number is a palindrome!\")\n",
    "else:\n",
    "    print(\"The number is not a palindrome.\")\n"
   ]
  },
  {
   "cell_type": "markdown",
   "id": "78fdad26-a50b-4a48-915f-127210cb156a",
   "metadata": {},
   "source": [
    "Q9. Write a code to print odd numbers from 1 to 100 using list comprehension."
   ]
  },
  {
   "cell_type": "code",
   "execution_count": null,
   "id": "142a89a0-797b-4b34-aed6-9fa6b81516b9",
   "metadata": {},
   "outputs": [],
   "source": [
    "odd_numbers = [num for num in range(1, 101) if num % 2 != 0]\n",
    "\n",
    "print(odd_numbers)\n"
   ]
  },
  {
   "cell_type": "code",
   "execution_count": null,
   "id": "c4db1045-a459-446a-9fcf-4d01d6ac0af1",
   "metadata": {},
   "outputs": [],
   "source": []
  }
 ],
 "metadata": {
  "kernelspec": {
   "display_name": "Python 3 (ipykernel)",
   "language": "python",
   "name": "python3"
  },
  "language_info": {
   "codemirror_mode": {
    "name": "ipython",
    "version": 3
   },
   "file_extension": ".py",
   "mimetype": "text/x-python",
   "name": "python",
   "nbconvert_exporter": "python",
   "pygments_lexer": "ipython3",
   "version": "3.10.8"
  }
 },
 "nbformat": 4,
 "nbformat_minor": 5
}
